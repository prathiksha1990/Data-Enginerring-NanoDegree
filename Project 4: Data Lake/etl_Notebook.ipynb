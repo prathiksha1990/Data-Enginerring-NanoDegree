{
 "cells": [
  {
   "cell_type": "code",
   "execution_count": 91,
   "id": "12356fb3-52e7-4b4c-8189-7db656f10f86",
   "metadata": {
    "execution": {
     "iopub.execute_input": "2023-01-14T23:20:49.884370Z",
     "iopub.status.busy": "2023-01-14T23:20:49.883993Z",
     "iopub.status.idle": "2023-01-14T23:20:50.112394Z",
     "shell.execute_reply": "2023-01-14T23:20:50.111606Z",
     "shell.execute_reply.started": "2023-01-14T23:20:49.884338Z"
    },
    "tags": []
   },
   "outputs": [
    {
     "data": {
      "application/vnd.jupyter.widget-view+json": {
       "model_id": "53181bc2fcef47b9b23c5e3ea4dc4104",
       "version_major": 2,
       "version_minor": 0
      },
      "text/plain": [
       "VBox()"
      ]
     },
     "metadata": {},
     "output_type": "display_data"
    },
    {
     "data": {
      "application/vnd.jupyter.widget-view+json": {
       "model_id": "",
       "version_major": 2,
       "version_minor": 0
      },
      "text/plain": [
       "FloatProgress(value=0.0, bar_style='info', description='Progress:', layout=Layout(height='25px', width='50%'),…"
      ]
     },
     "metadata": {},
     "output_type": "display_data"
    },
    {
     "name": "stderr",
     "output_type": "stream",
     "text": [
      "cannot import name 'week'\n",
      "Traceback (most recent call last):\n",
      "ImportError: cannot import name 'week'\n",
      "\n"
     ]
    }
   ],
   "source": [
    "import configparser\n",
    "from datetime import datetime\n",
    "import os\n",
    "from pyspark.sql import SparkSession\n",
    "from pyspark.sql.functions import udf, col\n",
    "from pyspark.sql.functions import week,year, month, dayofmonth, hour, weekofyear, date_format\n",
    "from pyspark.sql.types import StructType as R, StructField as Fld, DoubleType as Dbl, \\\n",
    "                                StringType as Str, IntegerType as Int, DateType as Dat, \\\n",
    "                                TimestampType\n",
    "from pyspark.sql.functions import monotonically_increasing_id as mi\n",
    "from pyspark.sql.functions import to_timestamp as ti"
   ]
  },
  {
   "cell_type": "code",
   "execution_count": 2,
   "id": "21d912b3-8c07-4a4d-b1c5-1ed2c0ef66c7",
   "metadata": {
    "execution": {
     "iopub.execute_input": "2023-01-14T21:07:42.868032Z",
     "iopub.status.busy": "2023-01-14T21:07:42.867307Z",
     "iopub.status.idle": "2023-01-14T21:07:43.128172Z",
     "shell.execute_reply": "2023-01-14T21:07:43.127174Z",
     "shell.execute_reply.started": "2023-01-14T21:07:42.867994Z"
    },
    "tags": []
   },
   "outputs": [
    {
     "data": {
      "application/vnd.jupyter.widget-view+json": {
       "model_id": "e7c29051a3a14a388d326c4152f3b673",
       "version_major": 2,
       "version_minor": 0
      },
      "text/plain": [
       "VBox()"
      ]
     },
     "metadata": {},
     "output_type": "display_data"
    },
    {
     "data": {
      "application/vnd.jupyter.widget-view+json": {
       "model_id": "",
       "version_major": 2,
       "version_minor": 0
      },
      "text/plain": [
       "FloatProgress(value=0.0, bar_style='info', description='Progress:', layout=Layout(height='25px', width='50%'),…"
      ]
     },
     "metadata": {},
     "output_type": "display_data"
    },
    {
     "name": "stdout",
     "output_type": "stream",
     "text": [
      "[]"
     ]
    }
   ],
   "source": [
    "config = configparser.ConfigParser()\n",
    "config.read('dl.cfg')"
   ]
  },
  {
   "cell_type": "code",
   "execution_count": 3,
   "id": "a7c30473-24db-46c2-982b-fb476836ec8a",
   "metadata": {
    "execution": {
     "iopub.execute_input": "2023-01-14T21:07:43.130856Z",
     "iopub.status.busy": "2023-01-14T21:07:43.130175Z",
     "iopub.status.idle": "2023-01-14T21:07:44.188143Z",
     "shell.execute_reply": "2023-01-14T21:07:44.187220Z",
     "shell.execute_reply.started": "2023-01-14T21:07:43.130817Z"
    },
    "tags": []
   },
   "outputs": [
    {
     "data": {
      "application/vnd.jupyter.widget-view+json": {
       "model_id": "1fd7d335721540b78cf210b5eeec80f5",
       "version_major": 2,
       "version_minor": 0
      },
      "text/plain": [
       "VBox()"
      ]
     },
     "metadata": {},
     "output_type": "display_data"
    },
    {
     "data": {
      "application/vnd.jupyter.widget-view+json": {
       "model_id": "",
       "version_major": 2,
       "version_minor": 0
      },
      "text/plain": [
       "FloatProgress(value=0.0, bar_style='info', description='Progress:', layout=Layout(height='25px', width='50%'),…"
      ]
     },
     "metadata": {},
     "output_type": "display_data"
    }
   ],
   "source": [
    "spark = SparkSession \\\n",
    "        .builder \\\n",
    "        .config(\"spark.jars.packages\", \"org.apache.hadoop:hadoop-aws:2.7.0\") \\\n",
    "        .getOrCreate()"
   ]
  },
  {
   "cell_type": "code",
   "execution_count": 26,
   "id": "be21576f-e4e9-421b-861e-81d53b6d831a",
   "metadata": {
    "execution": {
     "iopub.execute_input": "2023-01-14T21:50:07.389137Z",
     "iopub.status.busy": "2023-01-14T21:50:07.388806Z",
     "iopub.status.idle": "2023-01-14T21:50:07.618524Z",
     "shell.execute_reply": "2023-01-14T21:50:07.617665Z",
     "shell.execute_reply.started": "2023-01-14T21:50:07.389107Z"
    }
   },
   "outputs": [
    {
     "data": {
      "application/vnd.jupyter.widget-view+json": {
       "model_id": "8c677dfe3ca14a4c827b8fbee85e58c5",
       "version_major": 2,
       "version_minor": 0
      },
      "text/plain": [
       "VBox()"
      ]
     },
     "metadata": {},
     "output_type": "display_data"
    },
    {
     "data": {
      "application/vnd.jupyter.widget-view+json": {
       "model_id": "",
       "version_major": 2,
       "version_minor": 0
      },
      "text/plain": [
       "FloatProgress(value=0.0, bar_style='info', description='Progress:', layout=Layout(height='25px', width='50%'),…"
      ]
     },
     "metadata": {},
     "output_type": "display_data"
    }
   ],
   "source": [
    "song_data = \"s3a://udacity-dend/song_data/*/*/*/*.json\""
   ]
  },
  {
   "cell_type": "code",
   "execution_count": 27,
   "id": "e299b1a9-9105-490e-88da-62111926fcc6",
   "metadata": {
    "execution": {
     "iopub.execute_input": "2023-01-14T21:50:50.720775Z",
     "iopub.status.busy": "2023-01-14T21:50:50.720443Z",
     "iopub.status.idle": "2023-01-14T21:50:50.929783Z",
     "shell.execute_reply": "2023-01-14T21:50:50.928971Z",
     "shell.execute_reply.started": "2023-01-14T21:50:50.720745Z"
    }
   },
   "outputs": [
    {
     "data": {
      "application/vnd.jupyter.widget-view+json": {
       "model_id": "dcad87526f3441959d8b592d70c6b8f2",
       "version_major": 2,
       "version_minor": 0
      },
      "text/plain": [
       "VBox()"
      ]
     },
     "metadata": {},
     "output_type": "display_data"
    },
    {
     "data": {
      "application/vnd.jupyter.widget-view+json": {
       "model_id": "",
       "version_major": 2,
       "version_minor": 0
      },
      "text/plain": [
       "FloatProgress(value=0.0, bar_style='info', description='Progress:', layout=Layout(height='25px', width='50%'),…"
      ]
     },
     "metadata": {},
     "output_type": "display_data"
    }
   ],
   "source": [
    "   songSchema = R([\n",
    "        Fld(\"artist_id\",Str()),\n",
    "        Fld(\"artist_latitude\",Dbl()),\n",
    "        Fld(\"artist_location\",Str()),\n",
    "        Fld(\"artist_longitude\",Dbl()),\n",
    "        Fld(\"artist_name\",Str()),\n",
    "        Fld(\"duration\",Dbl()),\n",
    "        Fld(\"num_songs\",Int()),\n",
    "        Fld(\"song_id\",Str()),\n",
    "        Fld(\"title\",Str()),\n",
    "        Fld(\"year\",Int()),\n",
    "    ])"
   ]
  },
  {
   "cell_type": "code",
   "execution_count": 29,
   "id": "0e6e9f3b-b741-422e-92a7-074cf9e4d8b0",
   "metadata": {
    "execution": {
     "iopub.execute_input": "2023-01-14T21:51:09.842002Z",
     "iopub.status.busy": "2023-01-14T21:51:09.841642Z",
     "iopub.status.idle": "2023-01-14T21:58:22.245247Z",
     "shell.execute_reply": "2023-01-14T21:58:22.244263Z",
     "shell.execute_reply.started": "2023-01-14T21:51:09.841972Z"
    },
    "tags": []
   },
   "outputs": [
    {
     "data": {
      "application/vnd.jupyter.widget-view+json": {
       "model_id": "fd6098fcc30044aeae69b0d2afccda68",
       "version_major": 2,
       "version_minor": 0
      },
      "text/plain": [
       "VBox()"
      ]
     },
     "metadata": {},
     "output_type": "display_data"
    },
    {
     "data": {
      "application/vnd.jupyter.widget-view+json": {
       "model_id": "",
       "version_major": 2,
       "version_minor": 0
      },
      "text/plain": [
       "FloatProgress(value=0.0, bar_style='info', description='Progress:', layout=Layout(height='25px', width='50%'),…"
      ]
     },
     "metadata": {},
     "output_type": "display_data"
    }
   ],
   "source": [
    "df = spark.read.json(song_data, schema=songSchema)"
   ]
  },
  {
   "cell_type": "code",
   "execution_count": 30,
   "id": "c98c1b1d-38f3-4ce0-a7e9-87728a717ae4",
   "metadata": {
    "execution": {
     "iopub.execute_input": "2023-01-14T21:58:39.039671Z",
     "iopub.status.busy": "2023-01-14T21:58:39.039352Z",
     "iopub.status.idle": "2023-01-14T21:58:41.622200Z",
     "shell.execute_reply": "2023-01-14T21:58:41.620365Z",
     "shell.execute_reply.started": "2023-01-14T21:58:39.039646Z"
    },
    "tags": []
   },
   "outputs": [
    {
     "data": {
      "application/vnd.jupyter.widget-view+json": {
       "model_id": "4ae8d49a6222490db03bfef6269c885c",
       "version_major": 2,
       "version_minor": 0
      },
      "text/plain": [
       "VBox()"
      ]
     },
     "metadata": {},
     "output_type": "display_data"
    },
    {
     "data": {
      "application/vnd.jupyter.widget-view+json": {
       "model_id": "",
       "version_major": 2,
       "version_minor": 0
      },
      "text/plain": [
       "FloatProgress(value=0.0, bar_style='info', description='Progress:', layout=Layout(height='25px', width='50%'),…"
      ]
     },
     "metadata": {},
     "output_type": "display_data"
    },
    {
     "name": "stdout",
     "output_type": "stream",
     "text": [
      "Row(artist_id='AR4T2IF1187B9ADBB7', artist_latitude=63.96027, artist_location='<a href=\"http://billyidol.net\" onmousedown=\\'UntrustedLink.bootstrap($(this), \"fc44f8f60d13ab68c56b3c6709c6d670\", event)\\' target=\"_blank\" rel=\"nofollow\">http://billyidol.net</a>', artist_longitude=10.22442, artist_name='Billy Idol', duration=233.22077, num_songs=1, song_id='SOVIYJY12AF72A4B00', title='The Dead Next Door (Digitally Remastered 99)', year=1983)"
     ]
    }
   ],
   "source": [
    "df.head()"
   ]
  },
  {
   "cell_type": "code",
   "execution_count": 31,
   "id": "e29354e2-16c0-485d-bcba-46e9692ddac0",
   "metadata": {
    "execution": {
     "iopub.execute_input": "2023-01-14T21:58:58.396943Z",
     "iopub.status.busy": "2023-01-14T21:58:58.396609Z",
     "iopub.status.idle": "2023-01-14T21:58:58.626948Z",
     "shell.execute_reply": "2023-01-14T21:58:58.626115Z",
     "shell.execute_reply.started": "2023-01-14T21:58:58.396913Z"
    },
    "tags": []
   },
   "outputs": [
    {
     "data": {
      "application/vnd.jupyter.widget-view+json": {
       "model_id": "ab5d848a8d704675887fcd1aa1079d2c",
       "version_major": 2,
       "version_minor": 0
      },
      "text/plain": [
       "VBox()"
      ]
     },
     "metadata": {},
     "output_type": "display_data"
    },
    {
     "data": {
      "application/vnd.jupyter.widget-view+json": {
       "model_id": "",
       "version_major": 2,
       "version_minor": 0
      },
      "text/plain": [
       "FloatProgress(value=0.0, bar_style='info', description='Progress:', layout=Layout(height='25px', width='50%'),…"
      ]
     },
     "metadata": {},
     "output_type": "display_data"
    },
    {
     "name": "stdout",
     "output_type": "stream",
     "text": [
      "root\n",
      " |-- artist_id: string (nullable = true)\n",
      " |-- artist_latitude: double (nullable = true)\n",
      " |-- artist_location: string (nullable = true)\n",
      " |-- artist_longitude: double (nullable = true)\n",
      " |-- artist_name: string (nullable = true)\n",
      " |-- duration: double (nullable = true)\n",
      " |-- num_songs: integer (nullable = true)\n",
      " |-- song_id: string (nullable = true)\n",
      " |-- title: string (nullable = true)\n",
      " |-- year: integer (nullable = true)"
     ]
    }
   ],
   "source": [
    "df.printSchema()"
   ]
  },
  {
   "cell_type": "code",
   "execution_count": 32,
   "id": "f065c943-11d1-4a47-a5ba-b982cb0085ca",
   "metadata": {
    "execution": {
     "iopub.execute_input": "2023-01-14T21:59:23.482432Z",
     "iopub.status.busy": "2023-01-14T21:59:23.482082Z",
     "iopub.status.idle": "2023-01-14T21:59:23.712217Z",
     "shell.execute_reply": "2023-01-14T21:59:23.709378Z",
     "shell.execute_reply.started": "2023-01-14T21:59:23.482403Z"
    },
    "tags": []
   },
   "outputs": [
    {
     "data": {
      "application/vnd.jupyter.widget-view+json": {
       "model_id": "0a1359e9632f40c594872bedcce56472",
       "version_major": 2,
       "version_minor": 0
      },
      "text/plain": [
       "VBox()"
      ]
     },
     "metadata": {},
     "output_type": "display_data"
    },
    {
     "data": {
      "application/vnd.jupyter.widget-view+json": {
       "model_id": "",
       "version_major": 2,
       "version_minor": 0
      },
      "text/plain": [
       "FloatProgress(value=0.0, bar_style='info', description='Progress:', layout=Layout(height='25px', width='50%'),…"
      ]
     },
     "metadata": {},
     "output_type": "display_data"
    }
   ],
   "source": [
    " song_columns = [\"title\", \"artist_id\",\"year\", \"duration\"]"
   ]
  },
  {
   "cell_type": "code",
   "execution_count": 38,
   "id": "5f8738ed-58f9-4424-ba3a-c0232e6f957b",
   "metadata": {
    "execution": {
     "iopub.execute_input": "2023-01-14T22:05:31.217353Z",
     "iopub.status.busy": "2023-01-14T22:05:31.217003Z",
     "iopub.status.idle": "2023-01-14T22:05:31.431298Z",
     "shell.execute_reply": "2023-01-14T22:05:31.430371Z",
     "shell.execute_reply.started": "2023-01-14T22:05:31.217325Z"
    },
    "tags": []
   },
   "outputs": [
    {
     "data": {
      "application/vnd.jupyter.widget-view+json": {
       "model_id": "7e7fa22438bc431e9cf438e0f786447c",
       "version_major": 2,
       "version_minor": 0
      },
      "text/plain": [
       "VBox()"
      ]
     },
     "metadata": {},
     "output_type": "display_data"
    },
    {
     "data": {
      "application/vnd.jupyter.widget-view+json": {
       "model_id": "",
       "version_major": 2,
       "version_minor": 0
      },
      "text/plain": [
       "FloatProgress(value=0.0, bar_style='info', description='Progress:', layout=Layout(height='25px', width='50%'),…"
      ]
     },
     "metadata": {},
     "output_type": "display_data"
    }
   ],
   "source": [
    "songs_table = df.select(song_columns).dropDuplicates().withColumn(\"song_id\", mi())"
   ]
  },
  {
   "cell_type": "code",
   "execution_count": 40,
   "id": "0428f900-e5f0-497e-a254-549d78704192",
   "metadata": {
    "execution": {
     "iopub.execute_input": "2023-01-14T22:07:08.925604Z",
     "iopub.status.busy": "2023-01-14T22:07:08.925299Z",
     "iopub.status.idle": "2023-01-14T22:07:09.214464Z",
     "shell.execute_reply": "2023-01-14T22:07:09.213817Z",
     "shell.execute_reply.started": "2023-01-14T22:07:08.925578Z"
    }
   },
   "outputs": [
    {
     "data": {
      "application/vnd.jupyter.widget-view+json": {
       "model_id": "26ef7de7e03c433890a0f0c22cf72cf2",
       "version_major": 2,
       "version_minor": 0
      },
      "text/plain": [
       "VBox()"
      ]
     },
     "metadata": {},
     "output_type": "display_data"
    },
    {
     "data": {
      "application/vnd.jupyter.widget-view+json": {
       "model_id": "",
       "version_major": 2,
       "version_minor": 0
      },
      "text/plain": [
       "FloatProgress(value=0.0, bar_style='info', description='Progress:', layout=Layout(height='25px', width='50%'),…"
      ]
     },
     "metadata": {},
     "output_type": "display_data"
    }
   ],
   "source": [
    "output_data = \"\""
   ]
  },
  {
   "cell_type": "code",
   "execution_count": 42,
   "id": "877c57f1-4b7a-4ad4-8c22-3e70d2bec334",
   "metadata": {
    "execution": {
     "iopub.execute_input": "2023-01-14T22:07:39.223627Z",
     "iopub.status.busy": "2023-01-14T22:07:39.223249Z",
     "iopub.status.idle": "2023-01-14T22:16:19.826379Z",
     "shell.execute_reply": "2023-01-14T22:16:19.825391Z",
     "shell.execute_reply.started": "2023-01-14T22:07:39.223597Z"
    },
    "tags": []
   },
   "outputs": [
    {
     "data": {
      "application/vnd.jupyter.widget-view+json": {
       "model_id": "d34a9284a8fe41a791167889611f3270",
       "version_major": 2,
       "version_minor": 0
      },
      "text/plain": [
       "VBox()"
      ]
     },
     "metadata": {},
     "output_type": "display_data"
    },
    {
     "data": {
      "application/vnd.jupyter.widget-view+json": {
       "model_id": "",
       "version_major": 2,
       "version_minor": 0
      },
      "text/plain": [
       "FloatProgress(value=0.0, bar_style='info', description='Progress:', layout=Layout(height='25px', width='50%'),…"
      ]
     },
     "metadata": {},
     "output_type": "display_data"
    }
   ],
   "source": [
    "songs_table.write.partitionBy(\"year\",\"artist_id\").parquet(output_data + 'songs/')"
   ]
  },
  {
   "cell_type": "code",
   "execution_count": 22,
   "id": "43642b9a-bc91-46d2-9dd1-9c1cad03104f",
   "metadata": {
    "execution": {
     "iopub.execute_input": "2023-01-08T22:01:25.571853Z",
     "iopub.status.busy": "2023-01-08T22:01:25.571282Z",
     "iopub.status.idle": "2023-01-08T22:10:25.852344Z",
     "shell.execute_reply": "2023-01-08T22:10:25.849254Z",
     "shell.execute_reply.started": "2023-01-08T22:01:25.571812Z"
    },
    "tags": []
   },
   "outputs": [
    {
     "data": {
      "application/vnd.jupyter.widget-view+json": {
       "model_id": "f1e6d776880541f484209fca0c7ef6e0",
       "version_major": 2,
       "version_minor": 0
      },
      "text/plain": [
       "VBox()"
      ]
     },
     "metadata": {},
     "output_type": "display_data"
    },
    {
     "data": {
      "application/vnd.jupyter.widget-view+json": {
       "model_id": "",
       "version_major": 2,
       "version_minor": 0
      },
      "text/plain": [
       "FloatProgress(value=0.0, bar_style='info', description='Progress:', layout=Layout(height='25px', width='50%'),…"
      ]
     },
     "metadata": {},
     "output_type": "display_data"
    }
   ],
   "source": [
    "#write songs table to parquet files partitioned by year and artist\n",
    "songs_table.write.partitionBy(\"year\",\"artist_id\").parquet(output_data + 'songs/')"
   ]
  },
  {
   "cell_type": "code",
   "execution_count": 46,
   "id": "796bb8bc-c179-4fce-bc0a-c8c81320b619",
   "metadata": {
    "execution": {
     "iopub.execute_input": "2023-01-14T22:29:21.145571Z",
     "iopub.status.busy": "2023-01-14T22:29:21.145133Z",
     "iopub.status.idle": "2023-01-14T22:29:21.616733Z",
     "shell.execute_reply": "2023-01-14T22:29:21.615845Z",
     "shell.execute_reply.started": "2023-01-14T22:29:21.145529Z"
    },
    "tags": []
   },
   "outputs": [
    {
     "data": {
      "application/vnd.jupyter.widget-view+json": {
       "model_id": "85212af49d714c6cab878c954e68510c",
       "version_major": 2,
       "version_minor": 0
      },
      "text/plain": [
       "VBox()"
      ]
     },
     "metadata": {},
     "output_type": "display_data"
    },
    {
     "data": {
      "application/vnd.jupyter.widget-view+json": {
       "model_id": "",
       "version_major": 2,
       "version_minor": 0
      },
      "text/plain": [
       "FloatProgress(value=0.0, bar_style='info', description='Progress:', layout=Layout(height='25px', width='50%'),…"
      ]
     },
     "metadata": {},
     "output_type": "display_data"
    }
   ],
   "source": [
    " # extract columns to create artists table\n",
    "artists_columns = [\"artist_id\", \"artist_name as name\", \"artist_location as location\",\n",
    "                       \"artist_latitude as latitude\", \"artist_longitude as longitude\"]\n",
    "artists_table = df.selectExpr(artists_columns).dropDuplicates()"
   ]
  },
  {
   "cell_type": "code",
   "execution_count": 122,
   "id": "71f56eac-6246-4d2e-989b-0ffa2e0660fc",
   "metadata": {
    "execution": {
     "iopub.execute_input": "2023-01-14T23:48:14.384126Z",
     "iopub.status.busy": "2023-01-14T23:48:14.383791Z",
     "iopub.status.idle": "2023-01-14T23:48:14.841914Z",
     "shell.execute_reply": "2023-01-14T23:48:14.841074Z",
     "shell.execute_reply.started": "2023-01-14T23:48:14.384096Z"
    },
    "tags": []
   },
   "outputs": [
    {
     "data": {
      "application/vnd.jupyter.widget-view+json": {
       "model_id": "e332acaffcb444f9ab4f5acfc07b67cb",
       "version_major": 2,
       "version_minor": 0
      },
      "text/plain": [
       "VBox()"
      ]
     },
     "metadata": {},
     "output_type": "display_data"
    },
    {
     "data": {
      "application/vnd.jupyter.widget-view+json": {
       "model_id": "",
       "version_major": 2,
       "version_minor": 0
      },
      "text/plain": [
       "FloatProgress(value=0.0, bar_style='info', description='Progress:', layout=Layout(height='25px', width='50%'),…"
      ]
     },
     "metadata": {},
     "output_type": "display_data"
    },
    {
     "name": "stderr",
     "output_type": "stream",
     "text": [
      "'path hdfs://ip-172-31-1-101.ec2.internal:8020/user/livy/artists already exists.;'\n",
      "Traceback (most recent call last):\n",
      "  File \"/usr/lib/spark/python/lib/pyspark.zip/pyspark/sql/readwriter.py\", line 841, in parquet\n",
      "    self._jwrite.parquet(path)\n",
      "  File \"/usr/lib/spark/python/lib/py4j-0.10.7-src.zip/py4j/java_gateway.py\", line 1257, in __call__\n",
      "    answer, self.gateway_client, self.target_id, self.name)\n",
      "  File \"/usr/lib/spark/python/lib/pyspark.zip/pyspark/sql/utils.py\", line 69, in deco\n",
      "    raise AnalysisException(s.split(': ', 1)[1], stackTrace)\n",
      "pyspark.sql.utils.AnalysisException: 'path hdfs://ip-172-31-1-101.ec2.internal:8020/user/livy/artists already exists.;'\n",
      "\n"
     ]
    }
   ],
   "source": [
    "# write artists table to parquet files\n",
    "artists_table.write.parquet(output_data + 'artists/')"
   ]
  },
  {
   "cell_type": "code",
   "execution_count": 49,
   "id": "50077ef0-8834-427f-97b2-a4d7bf06bd9d",
   "metadata": {
    "execution": {
     "iopub.execute_input": "2023-01-14T22:38:08.726531Z",
     "iopub.status.busy": "2023-01-14T22:38:08.726210Z",
     "iopub.status.idle": "2023-01-14T22:38:08.949347Z",
     "shell.execute_reply": "2023-01-14T22:38:08.948346Z",
     "shell.execute_reply.started": "2023-01-14T22:38:08.726504Z"
    },
    "tags": []
   },
   "outputs": [
    {
     "data": {
      "application/vnd.jupyter.widget-view+json": {
       "model_id": "b4c2be7526a4470d8a4c6062d4cba991",
       "version_major": 2,
       "version_minor": 0
      },
      "text/plain": [
       "VBox()"
      ]
     },
     "metadata": {},
     "output_type": "display_data"
    },
    {
     "data": {
      "application/vnd.jupyter.widget-view+json": {
       "model_id": "",
       "version_major": 2,
       "version_minor": 0
      },
      "text/plain": [
       "FloatProgress(value=0.0, bar_style='info', description='Progress:', layout=Layout(height='25px', width='50%'),…"
      ]
     },
     "metadata": {},
     "output_type": "display_data"
    }
   ],
   "source": [
    "# get filepath to log data file\n",
    "log_data = \"s3a://udacity-dend/log_data/*/*/*.json\""
   ]
  },
  {
   "cell_type": "code",
   "execution_count": 50,
   "id": "2f4da985-b9b2-44e3-8d95-3e2077c29a01",
   "metadata": {
    "execution": {
     "iopub.execute_input": "2023-01-14T22:38:13.480863Z",
     "iopub.status.busy": "2023-01-14T22:38:13.480555Z",
     "iopub.status.idle": "2023-01-14T22:38:31.202706Z",
     "shell.execute_reply": "2023-01-14T22:38:31.202018Z",
     "shell.execute_reply.started": "2023-01-14T22:38:13.480837Z"
    }
   },
   "outputs": [
    {
     "data": {
      "application/vnd.jupyter.widget-view+json": {
       "model_id": "f3c881540f7c4731921eaac6d0e72b39",
       "version_major": 2,
       "version_minor": 0
      },
      "text/plain": [
       "VBox()"
      ]
     },
     "metadata": {},
     "output_type": "display_data"
    },
    {
     "data": {
      "application/vnd.jupyter.widget-view+json": {
       "model_id": "",
       "version_major": 2,
       "version_minor": 0
      },
      "text/plain": [
       "FloatProgress(value=0.0, bar_style='info', description='Progress:', layout=Layout(height='25px', width='50%'),…"
      ]
     },
     "metadata": {},
     "output_type": "display_data"
    }
   ],
   "source": [
    "# read log data file\n",
    "df = spark.read.json(log_data)"
   ]
  },
  {
   "cell_type": "code",
   "execution_count": 76,
   "id": "1c6932f9-ad95-4b46-8de4-5bb54506c5f0",
   "metadata": {
    "execution": {
     "iopub.execute_input": "2023-01-14T23:06:59.334230Z",
     "iopub.status.busy": "2023-01-14T23:06:59.333850Z",
     "iopub.status.idle": "2023-01-14T23:07:06.872726Z",
     "shell.execute_reply": "2023-01-14T23:07:06.871613Z",
     "shell.execute_reply.started": "2023-01-14T23:06:59.334153Z"
    },
    "tags": []
   },
   "outputs": [
    {
     "data": {
      "application/vnd.jupyter.widget-view+json": {
       "model_id": "f5ce9429b5cb4d5f9dd70573098390dd",
       "version_major": 2,
       "version_minor": 0
      },
      "text/plain": [
       "VBox()"
      ]
     },
     "metadata": {},
     "output_type": "display_data"
    },
    {
     "data": {
      "application/vnd.jupyter.widget-view+json": {
       "model_id": "",
       "version_major": 2,
       "version_minor": 0
      },
      "text/plain": [
       "FloatProgress(value=0.0, bar_style='info', description='Progress:', layout=Layout(height='25px', width='50%'),…"
      ]
     },
     "metadata": {},
     "output_type": "display_data"
    },
    {
     "name": "stdout",
     "output_type": "stream",
     "text": [
      "[Row(artist='Harmonia', auth='Logged In', firstName='Ryan', gender='M', itemInSession=0, lastName='Smith', length=655.77751, level='free', location='San Jose-Sunnyvale-Santa Clara, CA', method='PUT', page='NextSong', registration=1541016707796.0, sessionId=583, song='Sehr kosmisch', status=200, ts=1542241826796, userAgent='\"Mozilla/5.0 (X11; Linux x86_64) AppleWebKit/537.36 (KHTML, like Gecko) Ubuntu Chromium/36.0.1985.125 Chrome/36.0.1985.125 Safari/537.36\"', userId='26'), Row(artist='The Prodigy', auth='Logged In', firstName='Ryan', gender='M', itemInSession=1, lastName='Smith', length=260.07465, level='free', location='San Jose-Sunnyvale-Santa Clara, CA', method='PUT', page='NextSong', registration=1541016707796.0, sessionId=583, song='The Big Gundown', status=200, ts=1542242481796, userAgent='\"Mozilla/5.0 (X11; Linux x86_64) AppleWebKit/537.36 (KHTML, like Gecko) Ubuntu Chromium/36.0.1985.125 Chrome/36.0.1985.125 Safari/537.36\"', userId='26'), Row(artist='Train', auth='Logged In', firstName='Ryan', gender='M', itemInSession=2, lastName='Smith', length=205.45261, level='free', location='San Jose-Sunnyvale-Santa Clara, CA', method='PUT', page='NextSong', registration=1541016707796.0, sessionId=583, song='Marry Me', status=200, ts=1542242741796, userAgent='\"Mozilla/5.0 (X11; Linux x86_64) AppleWebKit/537.36 (KHTML, like Gecko) Ubuntu Chromium/36.0.1985.125 Chrome/36.0.1985.125 Safari/537.36\"', userId='26')]"
     ]
    }
   ],
   "source": [
    "df.head(3)"
   ]
  },
  {
   "cell_type": "code",
   "execution_count": 75,
   "id": "186c343f-9bd2-431d-850f-c578260d0e5e",
   "metadata": {
    "execution": {
     "iopub.execute_input": "2023-01-14T23:06:53.496359Z",
     "iopub.status.busy": "2023-01-14T23:06:53.496047Z",
     "iopub.status.idle": "2023-01-14T23:06:53.726544Z",
     "shell.execute_reply": "2023-01-14T23:06:53.725711Z",
     "shell.execute_reply.started": "2023-01-14T23:06:53.496334Z"
    },
    "tags": []
   },
   "outputs": [
    {
     "data": {
      "application/vnd.jupyter.widget-view+json": {
       "model_id": "2b1dce47a54c49b79792819428e91c93",
       "version_major": 2,
       "version_minor": 0
      },
      "text/plain": [
       "VBox()"
      ]
     },
     "metadata": {},
     "output_type": "display_data"
    },
    {
     "data": {
      "application/vnd.jupyter.widget-view+json": {
       "model_id": "",
       "version_major": 2,
       "version_minor": 0
      },
      "text/plain": [
       "FloatProgress(value=0.0, bar_style='info', description='Progress:', layout=Layout(height='25px', width='50%'),…"
      ]
     },
     "metadata": {},
     "output_type": "display_data"
    },
    {
     "name": "stdout",
     "output_type": "stream",
     "text": [
      "root\n",
      " |-- artist: string (nullable = true)\n",
      " |-- auth: string (nullable = true)\n",
      " |-- firstName: string (nullable = true)\n",
      " |-- gender: string (nullable = true)\n",
      " |-- itemInSession: long (nullable = true)\n",
      " |-- lastName: string (nullable = true)\n",
      " |-- length: double (nullable = true)\n",
      " |-- level: string (nullable = true)\n",
      " |-- location: string (nullable = true)\n",
      " |-- method: string (nullable = true)\n",
      " |-- page: string (nullable = true)\n",
      " |-- registration: double (nullable = true)\n",
      " |-- sessionId: long (nullable = true)\n",
      " |-- song: string (nullable = true)\n",
      " |-- status: long (nullable = true)\n",
      " |-- ts: long (nullable = true)\n",
      " |-- userAgent: string (nullable = true)\n",
      " |-- userId: string (nullable = true)"
     ]
    }
   ],
   "source": [
    "df.printSchema()"
   ]
  },
  {
   "cell_type": "code",
   "execution_count": 51,
   "id": "f32a18bb-9c8c-4ddf-ab9d-d3891090e7d6",
   "metadata": {
    "execution": {
     "iopub.execute_input": "2023-01-14T22:40:41.015494Z",
     "iopub.status.busy": "2023-01-14T22:40:41.015190Z",
     "iopub.status.idle": "2023-01-14T22:40:41.458405Z",
     "shell.execute_reply": "2023-01-14T22:40:41.457571Z",
     "shell.execute_reply.started": "2023-01-14T22:40:41.015468Z"
    }
   },
   "outputs": [
    {
     "data": {
      "application/vnd.jupyter.widget-view+json": {
       "model_id": "ee5522790df24770a28abbf2daf8bef7",
       "version_major": 2,
       "version_minor": 0
      },
      "text/plain": [
       "VBox()"
      ]
     },
     "metadata": {},
     "output_type": "display_data"
    },
    {
     "data": {
      "application/vnd.jupyter.widget-view+json": {
       "model_id": "",
       "version_major": 2,
       "version_minor": 0
      },
      "text/plain": [
       "FloatProgress(value=0.0, bar_style='info', description='Progress:', layout=Layout(height='25px', width='50%'),…"
      ]
     },
     "metadata": {},
     "output_type": "display_data"
    }
   ],
   "source": [
    "# filter by actions for song plays\n",
    "df = df.filter(df.page == 'NextSong')"
   ]
  },
  {
   "cell_type": "code",
   "execution_count": 56,
   "id": "b96824db-5f93-4d3b-8c41-9a1b6a245489",
   "metadata": {
    "execution": {
     "iopub.execute_input": "2023-01-14T22:43:17.842523Z",
     "iopub.status.busy": "2023-01-14T22:43:17.842186Z",
     "iopub.status.idle": "2023-01-14T22:43:18.034752Z",
     "shell.execute_reply": "2023-01-14T22:43:18.033940Z",
     "shell.execute_reply.started": "2023-01-14T22:43:17.842496Z"
    },
    "tags": []
   },
   "outputs": [
    {
     "data": {
      "application/vnd.jupyter.widget-view+json": {
       "model_id": "8779c231cf2642a69d46ca59be6193e7",
       "version_major": 2,
       "version_minor": 0
      },
      "text/plain": [
       "VBox()"
      ]
     },
     "metadata": {},
     "output_type": "display_data"
    },
    {
     "data": {
      "application/vnd.jupyter.widget-view+json": {
       "model_id": "",
       "version_major": 2,
       "version_minor": 0
      },
      "text/plain": [
       "FloatProgress(value=0.0, bar_style='info', description='Progress:', layout=Layout(height='25px', width='50%'),…"
      ]
     },
     "metadata": {},
     "output_type": "display_data"
    }
   ],
   "source": [
    "# extract columns for users table  \n",
    "user_columns = [\"userId\", \"firstName\",\"lastName\",\"gender\",\"level\"]\n",
    "user_table = df.selectExpr(user_columns).dropDuplicates() "
   ]
  },
  {
   "cell_type": "code",
   "execution_count": 57,
   "id": "6bcb1667-c16b-4fdf-89a1-d9a278229f99",
   "metadata": {
    "execution": {
     "iopub.execute_input": "2023-01-14T22:43:26.861701Z",
     "iopub.status.busy": "2023-01-14T22:43:26.861342Z",
     "iopub.status.idle": "2023-01-14T22:43:44.559131Z",
     "shell.execute_reply": "2023-01-14T22:43:44.557671Z",
     "shell.execute_reply.started": "2023-01-14T22:43:26.861672Z"
    }
   },
   "outputs": [
    {
     "data": {
      "application/vnd.jupyter.widget-view+json": {
       "model_id": "087c9a676c5244b1b4163dcf689962f3",
       "version_major": 2,
       "version_minor": 0
      },
      "text/plain": [
       "VBox()"
      ]
     },
     "metadata": {},
     "output_type": "display_data"
    },
    {
     "data": {
      "application/vnd.jupyter.widget-view+json": {
       "model_id": "",
       "version_major": 2,
       "version_minor": 0
      },
      "text/plain": [
       "FloatProgress(value=0.0, bar_style='info', description='Progress:', layout=Layout(height='25px', width='50%'),…"
      ]
     },
     "metadata": {},
     "output_type": "display_data"
    }
   ],
   "source": [
    "# write users table to parquet files\n",
    "user_table.write.parquet(output_data + 'users/')"
   ]
  },
  {
   "cell_type": "code",
   "execution_count": 77,
   "id": "28691f8f-182f-47c3-854d-c68e76d34e41",
   "metadata": {
    "execution": {
     "iopub.execute_input": "2023-01-14T23:11:09.084992Z",
     "iopub.status.busy": "2023-01-14T23:11:09.084658Z",
     "iopub.status.idle": "2023-01-14T23:11:09.311756Z",
     "shell.execute_reply": "2023-01-14T23:11:09.311083Z",
     "shell.execute_reply.started": "2023-01-14T23:11:09.084964Z"
    },
    "tags": []
   },
   "outputs": [
    {
     "data": {
      "application/vnd.jupyter.widget-view+json": {
       "model_id": "bd0fe3726d3c445f8ef8c25aaeedc837",
       "version_major": 2,
       "version_minor": 0
      },
      "text/plain": [
       "VBox()"
      ]
     },
     "metadata": {},
     "output_type": "display_data"
    },
    {
     "data": {
      "application/vnd.jupyter.widget-view+json": {
       "model_id": "",
       "version_major": 2,
       "version_minor": 0
      },
      "text/plain": [
       "FloatProgress(value=0.0, bar_style='info', description='Progress:', layout=Layout(height='25px', width='50%'),…"
      ]
     },
     "metadata": {},
     "output_type": "display_data"
    }
   ],
   "source": [
    "# create timestamp column from original timestamp column\n",
    "df = df.withColumn(\"start_time\", (col(\"ts\")/1000).cast(\"timestamp\"))\n"
   ]
  },
  {
   "cell_type": "code",
   "execution_count": 109,
   "id": "ac75c3fb-ac0c-411b-9b66-25d7ec31ae08",
   "metadata": {
    "execution": {
     "iopub.execute_input": "2023-01-14T23:30:49.231190Z",
     "iopub.status.busy": "2023-01-14T23:30:49.230892Z",
     "iopub.status.idle": "2023-01-14T23:31:02.820330Z",
     "shell.execute_reply": "2023-01-14T23:31:02.819130Z",
     "shell.execute_reply.started": "2023-01-14T23:30:49.231166Z"
    },
    "tags": []
   },
   "outputs": [
    {
     "data": {
      "application/vnd.jupyter.widget-view+json": {
       "model_id": "8c4c31248cc84f7eac0c195324374d43",
       "version_major": 2,
       "version_minor": 0
      },
      "text/plain": [
       "VBox()"
      ]
     },
     "metadata": {},
     "output_type": "display_data"
    },
    {
     "data": {
      "application/vnd.jupyter.widget-view+json": {
       "model_id": "",
       "version_major": 2,
       "version_minor": 0
      },
      "text/plain": [
       "FloatProgress(value=0.0, bar_style='info', description='Progress:', layout=Layout(height='25px', width='50%'),…"
      ]
     },
     "metadata": {},
     "output_type": "display_data"
    },
    {
     "name": "stdout",
     "output_type": "stream",
     "text": [
      "[Row(start_time=datetime.datetime(2018, 11, 21, 6, 18, 12, 796000), hour=6, day='21', week=47, month=11, year=2018, weekday='Wed'), Row(start_time=datetime.datetime(2018, 11, 21, 18, 49, 23, 796000), hour=18, day='21', week=47, month=11, year=2018, weekday='Wed')]"
     ]
    }
   ],
   "source": [
    "# extract columns to create time table date_format(col(\"birthday\"), \"d\")\n",
    "time_table = df.select(\"start_time\").dropDuplicates().withColumn(\"hour\", hour(col(\"start_time\"))) \\\n",
    "            .withColumn(\"day\", date_format(col(\"start_time\"), \"d\")) \\\n",
    "            .withColumn(\"week\", weekofyear(col(\"start_time\"))) \\\n",
    "            .withColumn(\"month\", month(col(\"start_time\"))) \\\n",
    "            .withColumn(\"year\", year(col(\"start_time\"))) \\\n",
    "            .withColumn(\"weekday\", date_format(col(\"start_time\"), 'E'))\n"
   ]
  },
  {
   "cell_type": "code",
   "execution_count": null,
   "id": "b3c76266-23cb-4690-a019-e519c90eabb8",
   "metadata": {},
   "outputs": [],
   "source": []
  },
  {
   "cell_type": "code",
   "execution_count": 110,
   "id": "70916043-3bc5-4277-a5ce-554e2ef273da",
   "metadata": {
    "execution": {
     "iopub.execute_input": "2023-01-14T23:33:47.619611Z",
     "iopub.status.busy": "2023-01-14T23:33:47.619313Z",
     "iopub.status.idle": "2023-01-14T23:34:13.466296Z",
     "shell.execute_reply": "2023-01-14T23:34:13.465330Z",
     "shell.execute_reply.started": "2023-01-14T23:33:47.619587Z"
    }
   },
   "outputs": [
    {
     "data": {
      "application/vnd.jupyter.widget-view+json": {
       "model_id": "1c08ef450cca48b993d32d6df4a0f894",
       "version_major": 2,
       "version_minor": 0
      },
      "text/plain": [
       "VBox()"
      ]
     },
     "metadata": {},
     "output_type": "display_data"
    },
    {
     "data": {
      "application/vnd.jupyter.widget-view+json": {
       "model_id": "",
       "version_major": 2,
       "version_minor": 0
      },
      "text/plain": [
       "FloatProgress(value=0.0, bar_style='info', description='Progress:', layout=Layout(height='25px', width='50%'),…"
      ]
     },
     "metadata": {},
     "output_type": "display_data"
    }
   ],
   "source": [
    "# write time table to parquet files partitioned by year and month\n",
    "time_table.write.partitionBy(\"year\",\"month\").parquet(output_data + 'time/')"
   ]
  },
  {
   "cell_type": "code",
   "execution_count": null,
   "id": "7184cce3-6ab4-4277-9129-fbcb09fade99",
   "metadata": {},
   "outputs": [],
   "source": []
  },
  {
   "cell_type": "code",
   "execution_count": 118,
   "id": "63b05f00-b0b3-4d6d-a0c9-cf7ad42f7b02",
   "metadata": {
    "execution": {
     "iopub.execute_input": "2023-01-14T23:44:25.884051Z",
     "iopub.status.busy": "2023-01-14T23:44:25.883502Z",
     "iopub.status.idle": "2023-01-14T23:45:07.582585Z",
     "shell.execute_reply": "2023-01-14T23:45:07.581632Z",
     "shell.execute_reply.started": "2023-01-14T23:44:25.884014Z"
    },
    "tags": []
   },
   "outputs": [
    {
     "data": {
      "application/vnd.jupyter.widget-view+json": {
       "model_id": "c0ec9b780eac4a50a4aa9aa73efeff2b",
       "version_major": 2,
       "version_minor": 0
      },
      "text/plain": [
       "VBox()"
      ]
     },
     "metadata": {},
     "output_type": "display_data"
    },
    {
     "data": {
      "application/vnd.jupyter.widget-view+json": {
       "model_id": "",
       "version_major": 2,
       "version_minor": 0
      },
      "text/plain": [
       "FloatProgress(value=0.0, bar_style='info', description='Progress:', layout=Layout(height='25px', width='50%'),…"
      ]
     },
     "metadata": {},
     "output_type": "display_data"
    },
    {
     "name": "stdout",
     "output_type": "stream",
     "text": [
      "root\n",
      " |-- title: string (nullable = true)\n",
      " |-- duration: double (nullable = true)\n",
      " |-- song_id: long (nullable = true)"
     ]
    }
   ],
   "source": [
    "# read in song data to use for songplays table\n",
    "song_df    = spark.read.parquet(output_data + 'songs/*/*/*')\n"
   ]
  },
  {
   "cell_type": "code",
   "execution_count": 120,
   "id": "0931a495-6321-4b5e-8805-778dea58554a",
   "metadata": {
    "execution": {
     "iopub.execute_input": "2023-01-14T23:45:16.189981Z",
     "iopub.status.busy": "2023-01-14T23:45:16.189587Z",
     "iopub.status.idle": "2023-01-14T23:45:16.415267Z",
     "shell.execute_reply": "2023-01-14T23:45:16.414079Z",
     "shell.execute_reply.started": "2023-01-14T23:45:16.189948Z"
    },
    "tags": []
   },
   "outputs": [
    {
     "data": {
      "application/vnd.jupyter.widget-view+json": {
       "model_id": "e3b385273c79405f93cf9de425d1787d",
       "version_major": 2,
       "version_minor": 0
      },
      "text/plain": [
       "VBox()"
      ]
     },
     "metadata": {},
     "output_type": "display_data"
    },
    {
     "data": {
      "application/vnd.jupyter.widget-view+json": {
       "model_id": "",
       "version_major": 2,
       "version_minor": 0
      },
      "text/plain": [
       "FloatProgress(value=0.0, bar_style='info', description='Progress:', layout=Layout(height='25px', width='50%'),…"
      ]
     },
     "metadata": {},
     "output_type": "display_data"
    },
    {
     "name": "stdout",
     "output_type": "stream",
     "text": [
      "root\n",
      " |-- title: string (nullable = true)\n",
      " |-- duration: double (nullable = true)\n",
      " |-- song_id: long (nullable = true)"
     ]
    }
   ],
   "source": [
    "song_df.printSchema()\n"
   ]
  },
  {
   "cell_type": "code",
   "execution_count": 123,
   "id": "dd9a8a3d-5ec5-480a-a412-b976de69190a",
   "metadata": {
    "execution": {
     "iopub.execute_input": "2023-01-14T23:49:20.232867Z",
     "iopub.status.busy": "2023-01-14T23:49:20.232363Z",
     "iopub.status.idle": "2023-01-14T23:49:30.430231Z",
     "shell.execute_reply": "2023-01-14T23:49:30.428844Z",
     "shell.execute_reply.started": "2023-01-14T23:49:20.232819Z"
    },
    "tags": []
   },
   "outputs": [
    {
     "data": {
      "application/vnd.jupyter.widget-view+json": {
       "model_id": "172df37ab7fa4a49840ed804bafef346",
       "version_major": 2,
       "version_minor": 0
      },
      "text/plain": [
       "VBox()"
      ]
     },
     "metadata": {},
     "output_type": "display_data"
    },
    {
     "data": {
      "application/vnd.jupyter.widget-view+json": {
       "model_id": "",
       "version_major": 2,
       "version_minor": 0
      },
      "text/plain": [
       "FloatProgress(value=0.0, bar_style='info', description='Progress:', layout=Layout(height='25px', width='50%'),…"
      ]
     },
     "metadata": {},
     "output_type": "display_data"
    }
   ],
   "source": [
    "# read in artist data to use for songplays table\n",
    "artists_df = spark.read.parquet(output_data + 'artists/*')"
   ]
  },
  {
   "cell_type": "code",
   "execution_count": 124,
   "id": "e625c846-85b3-44cb-9f92-7a3f40cf9e00",
   "metadata": {
    "execution": {
     "iopub.execute_input": "2023-01-14T23:50:04.418863Z",
     "iopub.status.busy": "2023-01-14T23:50:04.418539Z",
     "iopub.status.idle": "2023-01-14T23:50:04.638886Z",
     "shell.execute_reply": "2023-01-14T23:50:04.638277Z",
     "shell.execute_reply.started": "2023-01-14T23:50:04.418835Z"
    }
   },
   "outputs": [
    {
     "data": {
      "application/vnd.jupyter.widget-view+json": {
       "model_id": "c50a0a0eb4754017ae209008f94c17c9",
       "version_major": 2,
       "version_minor": 0
      },
      "text/plain": [
       "VBox()"
      ]
     },
     "metadata": {},
     "output_type": "display_data"
    },
    {
     "data": {
      "application/vnd.jupyter.widget-view+json": {
       "model_id": "",
       "version_major": 2,
       "version_minor": 0
      },
      "text/plain": [
       "FloatProgress(value=0.0, bar_style='info', description='Progress:', layout=Layout(height='25px', width='50%'),…"
      ]
     },
     "metadata": {},
     "output_type": "display_data"
    },
    {
     "name": "stdout",
     "output_type": "stream",
     "text": [
      "root\n",
      " |-- artist_id: string (nullable = true)\n",
      " |-- name: string (nullable = true)\n",
      " |-- location: string (nullable = true)\n",
      " |-- latitude: double (nullable = true)\n",
      " |-- longitude: double (nullable = true)"
     ]
    }
   ],
   "source": [
    "artists_df.printSchema()"
   ]
  },
  {
   "cell_type": "code",
   "execution_count": 148,
   "id": "24bbfd76-a924-4194-a6f5-6471031ec0a2",
   "metadata": {
    "execution": {
     "iopub.execute_input": "2023-01-15T00:14:29.357694Z",
     "iopub.status.busy": "2023-01-15T00:14:29.357366Z",
     "iopub.status.idle": "2023-01-15T00:14:29.610769Z",
     "shell.execute_reply": "2023-01-15T00:14:29.609853Z",
     "shell.execute_reply.started": "2023-01-15T00:14:29.357666Z"
    },
    "tags": []
   },
   "outputs": [
    {
     "data": {
      "application/vnd.jupyter.widget-view+json": {
       "model_id": "c37d124d1bab452aace1a0eafdf9896d",
       "version_major": 2,
       "version_minor": 0
      },
      "text/plain": [
       "VBox()"
      ]
     },
     "metadata": {},
     "output_type": "display_data"
    },
    {
     "data": {
      "application/vnd.jupyter.widget-view+json": {
       "model_id": "",
       "version_major": 2,
       "version_minor": 0
      },
      "text/plain": [
       "FloatProgress(value=0.0, bar_style='info', description='Progress:', layout=Layout(height='25px', width='50%'),…"
      ]
     },
     "metadata": {},
     "output_type": "display_data"
    }
   ],
   "source": [
    "#join song and log dataset to create songplays table    \n",
    "songs_logs = df.join(song_df, (df.song == song_df.title))\n",
    "artists_songs_logs = songs_logs.join(artists_df,(songs_logs.artist == artists_df.name)).drop(artists_df.location)"
   ]
  },
  {
   "cell_type": "code",
   "execution_count": 138,
   "id": "ac26dbab-5543-40db-b947-6a8033128328",
   "metadata": {
    "execution": {
     "iopub.execute_input": "2023-01-15T00:04:22.549853Z",
     "iopub.status.busy": "2023-01-15T00:04:22.549511Z",
     "iopub.status.idle": "2023-01-15T00:04:22.736278Z",
     "shell.execute_reply": "2023-01-15T00:04:22.735540Z",
     "shell.execute_reply.started": "2023-01-15T00:04:22.549824Z"
    },
    "tags": []
   },
   "outputs": [
    {
     "data": {
      "application/vnd.jupyter.widget-view+json": {
       "model_id": "d20f0768a96544218d17833b1aff91cd",
       "version_major": 2,
       "version_minor": 0
      },
      "text/plain": [
       "VBox()"
      ]
     },
     "metadata": {},
     "output_type": "display_data"
    },
    {
     "data": {
      "application/vnd.jupyter.widget-view+json": {
       "model_id": "",
       "version_major": 2,
       "version_minor": 0
      },
      "text/plain": [
       "FloatProgress(value=0.0, bar_style='info', description='Progress:', layout=Layout(height='25px', width='50%'),…"
      ]
     },
     "metadata": {},
     "output_type": "display_data"
    },
    {
     "name": "stdout",
     "output_type": "stream",
     "text": [
      "root\n",
      " |-- artist: string (nullable = true)\n",
      " |-- auth: string (nullable = true)\n",
      " |-- firstName: string (nullable = true)\n",
      " |-- gender: string (nullable = true)\n",
      " |-- itemInSession: long (nullable = true)\n",
      " |-- lastName: string (nullable = true)\n",
      " |-- length: double (nullable = true)\n",
      " |-- level: string (nullable = true)\n",
      " |-- location: string (nullable = true)\n",
      " |-- method: string (nullable = true)\n",
      " |-- page: string (nullable = true)\n",
      " |-- registration: double (nullable = true)\n",
      " |-- sessionId: long (nullable = true)\n",
      " |-- song: string (nullable = true)\n",
      " |-- status: long (nullable = true)\n",
      " |-- ts: long (nullable = true)\n",
      " |-- userAgent: string (nullable = true)\n",
      " |-- userId: string (nullable = true)\n",
      " |-- start_time: timestamp (nullable = true)\n",
      " |-- title: string (nullable = true)\n",
      " |-- duration: double (nullable = true)\n",
      " |-- song_id: long (nullable = true)\n",
      " |-- artist_id: string (nullable = true)\n",
      " |-- name: string (nullable = true)\n",
      " |-- location: string (nullable = true)\n",
      " |-- latitude: double (nullable = true)\n",
      " |-- longitude: double (nullable = true)"
     ]
    }
   ],
   "source": [
    "\n",
    "artists_songs_logs.printSchema()"
   ]
  },
  {
   "cell_type": "code",
   "execution_count": 149,
   "id": "2bed83c5-826d-4bff-8ca5-22aded3d56ac",
   "metadata": {
    "execution": {
     "iopub.execute_input": "2023-01-15T00:14:37.421744Z",
     "iopub.status.busy": "2023-01-15T00:14:37.421426Z",
     "iopub.status.idle": "2023-01-15T00:14:37.641526Z",
     "shell.execute_reply": "2023-01-15T00:14:37.640724Z",
     "shell.execute_reply.started": "2023-01-15T00:14:37.421718Z"
    },
    "tags": []
   },
   "outputs": [
    {
     "data": {
      "application/vnd.jupyter.widget-view+json": {
       "model_id": "38f8a00d73c94bc5a4d1a6ec868cbb85",
       "version_major": 2,
       "version_minor": 0
      },
      "text/plain": [
       "VBox()"
      ]
     },
     "metadata": {},
     "output_type": "display_data"
    },
    {
     "data": {
      "application/vnd.jupyter.widget-view+json": {
       "model_id": "",
       "version_major": 2,
       "version_minor": 0
      },
      "text/plain": [
       "FloatProgress(value=0.0, bar_style='info', description='Progress:', layout=Layout(height='25px', width='50%'),…"
      ]
     },
     "metadata": {},
     "output_type": "display_data"
    }
   ],
   "source": [
    "songplays = artists_songs_logs.join(time_table,\n",
    "artists_songs_logs.start_time == time_table.start_time, 'left'\n",
    ").drop(artists_songs_logs.start_time)"
   ]
  },
  {
   "cell_type": "code",
   "execution_count": 150,
   "id": "3ef27966-4ab8-41ca-a17b-9936382d1dff",
   "metadata": {
    "execution": {
     "iopub.execute_input": "2023-01-15T00:14:40.464239Z",
     "iopub.status.busy": "2023-01-15T00:14:40.463870Z",
     "iopub.status.idle": "2023-01-15T00:14:40.864331Z",
     "shell.execute_reply": "2023-01-15T00:14:40.863235Z",
     "shell.execute_reply.started": "2023-01-15T00:14:40.464211Z"
    },
    "tags": []
   },
   "outputs": [
    {
     "data": {
      "application/vnd.jupyter.widget-view+json": {
       "model_id": "cbb51866fee047d0867361552d28cb08",
       "version_major": 2,
       "version_minor": 0
      },
      "text/plain": [
       "VBox()"
      ]
     },
     "metadata": {},
     "output_type": "display_data"
    },
    {
     "data": {
      "application/vnd.jupyter.widget-view+json": {
       "model_id": "",
       "version_major": 2,
       "version_minor": 0
      },
      "text/plain": [
       "FloatProgress(value=0.0, bar_style='info', description='Progress:', layout=Layout(height='25px', width='50%'),…"
      ]
     },
     "metadata": {},
     "output_type": "display_data"
    }
   ],
   "source": [
    "# extract columns from joined song and log datasets to create songplays table \n",
    "\n",
    "songplays_table = songplays.select( \n",
    "col('start_time').alias('start_time'), \n",
    "col('userId').alias('user_id'), \n",
    "col('level').alias('level'), \n",
    "col('artist_id').alias('artist_id'), \n",
    "col('sessionId').alias('session_id'), \n",
    "col('location').alias('location'), \n",
    "col('userAgent').alias('user_agent'), \n",
    "col('year').alias('year'), \n",
    "col('month').alias('month'), \n",
    ").repartition(\"year\",\"month\")"
   ]
  },
  {
   "cell_type": "code",
   "execution_count": 151,
   "id": "979fbe3c-435a-4e48-8f94-20cc5f537498",
   "metadata": {
    "execution": {
     "iopub.execute_input": "2023-01-15T00:16:22.184935Z",
     "iopub.status.busy": "2023-01-15T00:16:22.184607Z",
     "iopub.status.idle": "2023-01-15T00:16:22.411386Z",
     "shell.execute_reply": "2023-01-15T00:16:22.410427Z",
     "shell.execute_reply.started": "2023-01-15T00:16:22.184907Z"
    }
   },
   "outputs": [
    {
     "data": {
      "application/vnd.jupyter.widget-view+json": {
       "model_id": "59874ec28194470f80dbb9d7d39bc2f6",
       "version_major": 2,
       "version_minor": 0
      },
      "text/plain": [
       "VBox()"
      ]
     },
     "metadata": {},
     "output_type": "display_data"
    },
    {
     "data": {
      "application/vnd.jupyter.widget-view+json": {
       "model_id": "",
       "version_major": 2,
       "version_minor": 0
      },
      "text/plain": [
       "FloatProgress(value=0.0, bar_style='info', description='Progress:', layout=Layout(height='25px', width='50%'),…"
      ]
     },
     "metadata": {},
     "output_type": "display_data"
    },
    {
     "name": "stdout",
     "output_type": "stream",
     "text": [
      "DataFrame[start_time: timestamp, user_id: string, level: string, artist_id: string, session_id: bigint, location: string, user_agent: string, year: int, month: int]"
     ]
    }
   ],
   "source": [
    "songplays_table"
   ]
  },
  {
   "cell_type": "code",
   "execution_count": null,
   "id": "3b50d463-54b5-4e02-8707-c2a8468c29ac",
   "metadata": {},
   "outputs": [],
   "source": []
  },
  {
   "cell_type": "code",
   "execution_count": 153,
   "id": "b5993d7f-58ec-4d4f-9d8e-71c6dcc59981",
   "metadata": {
    "execution": {
     "iopub.execute_input": "2023-01-15T00:18:04.556558Z",
     "iopub.status.busy": "2023-01-15T00:18:04.556248Z",
     "iopub.status.idle": "2023-01-15T00:18:58.192990Z",
     "shell.execute_reply": "2023-01-15T00:18:58.191931Z",
     "shell.execute_reply.started": "2023-01-15T00:18:04.556531Z"
    },
    "tags": []
   },
   "outputs": [
    {
     "data": {
      "application/vnd.jupyter.widget-view+json": {
       "model_id": "6af598b5991643d88c88b297efb3a2ed",
       "version_major": 2,
       "version_minor": 0
      },
      "text/plain": [
       "VBox()"
      ]
     },
     "metadata": {},
     "output_type": "display_data"
    },
    {
     "data": {
      "application/vnd.jupyter.widget-view+json": {
       "model_id": "",
       "version_major": 2,
       "version_minor": 0
      },
      "text/plain": [
       "FloatProgress(value=0.0, bar_style='info', description='Progress:', layout=Layout(height='25px', width='50%'),…"
      ]
     },
     "metadata": {},
     "output_type": "display_data"
    }
   ],
   "source": [
    "# write songplays table to parquet files partitioned by year and month\n",
    "        \n",
    "songplays_table.write.partitionBy(\"year\",\"month\").parquet(output_data + 'songplays/')"
   ]
  },
  {
   "cell_type": "code",
   "execution_count": 156,
   "id": "47eee194-cc04-45cf-9eb8-0adcda4e7880",
   "metadata": {
    "execution": {
     "iopub.execute_input": "2023-01-15T00:21:20.308087Z",
     "iopub.status.busy": "2023-01-15T00:21:20.307777Z",
     "iopub.status.idle": "2023-01-15T00:21:23.136752Z",
     "shell.execute_reply": "2023-01-15T00:21:23.135963Z",
     "shell.execute_reply.started": "2023-01-15T00:21:20.308060Z"
    },
    "tags": []
   },
   "outputs": [
    {
     "data": {
      "application/vnd.jupyter.widget-view+json": {
       "model_id": "2df2d24650f54ca9b857bc28fecba429",
       "version_major": 2,
       "version_minor": 0
      },
      "text/plain": [
       "VBox()"
      ]
     },
     "metadata": {},
     "output_type": "display_data"
    },
    {
     "data": {
      "application/vnd.jupyter.widget-view+json": {
       "model_id": "",
       "version_major": 2,
       "version_minor": 0
      },
      "text/plain": [
       "FloatProgress(value=0.0, bar_style='info', description='Progress:', layout=Layout(height='25px', width='50%'),…"
      ]
     },
     "metadata": {},
     "output_type": "display_data"
    },
    {
     "name": "stderr",
     "output_type": "stream",
     "text": [
      "'java.lang.RuntimeException: java.lang.RuntimeException: Unable to instantiate org.apache.hadoop.hive.ql.metadata.SessionHiveMetaStoreClient;'\n",
      "Traceback (most recent call last):\n",
      "  File \"/usr/lib/spark/python/lib/pyspark.zip/pyspark/sql/session.py\", line 767, in sql\n",
      "    return DataFrame(self._jsparkSession.sql(sqlQuery), self._wrapped)\n",
      "  File \"/usr/lib/spark/python/lib/py4j-0.10.7-src.zip/py4j/java_gateway.py\", line 1257, in __call__\n",
      "    answer, self.gateway_client, self.target_id, self.name)\n",
      "  File \"/usr/lib/spark/python/lib/pyspark.zip/pyspark/sql/utils.py\", line 69, in deco\n",
      "    raise AnalysisException(s.split(': ', 1)[1], stackTrace)\n",
      "pyspark.sql.utils.AnalysisException: 'java.lang.RuntimeException: java.lang.RuntimeException: Unable to instantiate org.apache.hadoop.hive.ql.metadata.SessionHiveMetaStoreClient;'\n",
      "\n"
     ]
    }
   ],
   "source": [
    "spark.sql(\"\"\"\n",
    "Select *\n",
    "from songplays_table\n",
    "\"\"\").limit(10).toPandas()"
   ]
  },
  {
   "cell_type": "code",
   "execution_count": null,
   "id": "43eb4fc7-e0ca-4ba8-8b11-5f74918ec465",
   "metadata": {},
   "outputs": [],
   "source": []
  }
 ],
 "metadata": {
  "kernelspec": {
   "display_name": "PySpark",
   "language": "",
   "name": "pysparkkernel"
  },
  "language_info": {
   "codemirror_mode": {
    "name": "python",
    "version": 2
   },
   "mimetype": "text/x-python",
   "name": "pyspark",
   "pygments_lexer": "python2"
  }
 },
 "nbformat": 4,
 "nbformat_minor": 5
}
